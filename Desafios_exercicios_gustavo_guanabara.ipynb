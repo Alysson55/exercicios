{
  "nbformat": 4,
  "nbformat_minor": 0,
  "metadata": {
    "colab": {
      "name": "Desafios exercicios/gustavo guanabara",
      "provenance": [],
      "authorship_tag": "ABX9TyNWZrVCUkApl5Wr2i/2HDCd",
      "include_colab_link": true
    },
    "kernelspec": {
      "name": "python3",
      "display_name": "Python 3"
    },
    "language_info": {
      "name": "python"
    }
  },
  "cells": [
    {
      "cell_type": "markdown",
      "metadata": {
        "id": "view-in-github",
        "colab_type": "text"
      },
      "source": [
        "<a href=\"https://colab.research.google.com/github/Alysson55/exercicios/blob/main/Desafios_exercicios_gustavo_guanabara.ipynb\" target=\"_parent\"><img src=\"https://colab.research.google.com/assets/colab-badge.svg\" alt=\"Open In Colab\"/></a>"
      ]
    },
    {
      "cell_type": "markdown",
      "metadata": {
        "id": "V-hT_JdmgsXn"
      },
      "source": [
        "#**Desafio005**\n",
        "\n",
        "faça um programa que leia o numero inteiro e mostra na tela o seu sucessor e seu antecessor negrito"
      ]
    },
    {
      "cell_type": "code",
      "metadata": {
        "colab": {
          "base_uri": "https://localhost:8080/"
        },
        "id": "drUrPCQpg3C-",
        "outputId": "29fc199c-2cb2-4ae8-f4c2-022dc206862d"
      },
      "source": [
        "n = int(input(\"digite um numero\"))\n",
        "ant = n-1\n",
        "suc = n+1\n",
        "print(\"analisando o valor {}, seu antecessor é {}, e seu sucessor é {}\".format(n, ant, suc))"
      ],
      "execution_count": null,
      "outputs": [
        {
          "output_type": "stream",
          "name": "stdout",
          "text": [
            "digite um numero25\n",
            "analisando o valor 25, seu antecessor é 24, e seu sucessor é 26\n"
          ]
        }
      ]
    },
    {
      "cell_type": "code",
      "metadata": {
        "colab": {
          "base_uri": "https://localhost:8080/"
        },
        "id": "7SBHj1bphkTM",
        "outputId": "c06b7530-5573-447e-894c-f508ec01e318"
      },
      "source": [
        "n = int(input(\"digite um numero\"))\n",
        "print(\"analisando o valor {}, seu antecessor é {}, e seu sucessor é {}\".format(n, (n-1), (n+1)))"
      ],
      "execution_count": null,
      "outputs": [
        {
          "output_type": "stream",
          "name": "stdout",
          "text": [
            "digite um numero30\n",
            "analisando o valor 30, seu antecessor é 29, e seu sucessor é 31\n"
          ]
        }
      ]
    },
    {
      "cell_type": "markdown",
      "metadata": {
        "id": "BpQ0vUbiiOI0"
      },
      "source": [
        "No primeiro exemplo eu utilizei tres(3) variaveis\n",
        "n\n",
        "ant\n",
        "suc\n",
        "Por isso usei o .format no final da operação e coloquei as variaveis entre parenteses para fazer a operação"
      ]
    },
    {
      "cell_type": "markdown",
      "metadata": {
        "id": "8ZPbsEs9ihYO"
      },
      "source": [
        "No segundo exemplo usei apenas 1 variavel,  por isso automaticamente se elimima as variaveis \"n\", \"ant\", \"suc\"\n",
        "Ao inves disso depois do .format pra ser feita a operação o calculo foi vem mais simples usando a variavel n\n",
        "Sucessao soma n+1 ou seja o valor de n sempre mais 1 numero\n",
        "Antecessor o mesmo processo porem subtraindo o valor de n-1"
      ]
    },
    {
      "cell_type": "markdown",
      "metadata": {
        "id": "oi3wLTjG-1iK"
      },
      "source": [
        "**Desafio** **N006 **\n",
        "Crie um algoritmo que leia um número e mostre seu dobro, triplo e raiz quadrada"
      ]
    },
    {
      "cell_type": "code",
      "metadata": {
        "colab": {
          "base_uri": "https://localhost:8080/"
        },
        "id": "uZ__EI7z6en-",
        "outputId": "ee2eb496-26b1-43f6-af7e-5183a0c3dd26"
      },
      "source": [
        "n = int(input('digite um numero'))\n",
        "d = n*2\n",
        "t = n*3\n",
        "r = n**(1/2)\n",
        "print(\"o dobro de {} vale {}\".format(n, d))\n",
        "print(\"o triplo de {} vale {}. \\nA raiz quadrada de {} é igual a {:.2f}\".format(n, t, n, r))"
      ],
      "execution_count": null,
      "outputs": [
        {
          "output_type": "stream",
          "name": "stdout",
          "text": [
            "digite um numero30\n",
            "o dobro de 30 vale 60\n",
            "o triplo de 30 vale 90. \n",
            "A raiz quadrada de 30 é igual a 5.48\n"
          ]
        }
      ]
    },
    {
      "cell_type": "markdown",
      "metadata": {
        "id": "2crUqlir6xpk"
      },
      "source": [
        "\\n ***quebra*** uma linha :.2f amostra 2 casas decimais :. 3f, mostra 3 casaa decimais E assim por ***diante***"
      ]
    },
    {
      "cell_type": "code",
      "metadata": {
        "colab": {
          "base_uri": "https://localhost:8080/"
        },
        "id": "KPb0gi-i661-",
        "outputId": "dfd99641-5dcb-4788-973a-116f937fc3de"
      },
      "source": [
        "n = int(input('digite um numero'))\n",
        "print(\"o dobro de {} vale {}\".format(n, (n*2)))\n",
        "print(\"o triplo de {} vale {}. \\nA raiz quadrada de {} é igual a {:.2f}\".format(n, (n*3), n, (n**(1/2))))"
      ],
      "execution_count": null,
      "outputs": [
        {
          "output_type": "stream",
          "name": "stdout",
          "text": [
            "digite um numero10\n",
            "o dobro de 10 vale 20\n",
            "o triplo de 10 vale 30. \n",
            "A raiz quadrada de 10 é igual a 3.16\n"
          ]
        }
      ]
    },
    {
      "cell_type": "code",
      "metadata": {
        "colab": {
          "base_uri": "https://localhost:8080/"
        },
        "id": "BcnaXPQt7JPg",
        "outputId": "b06d100d-2565-45ea-9894-0a74085bacce"
      },
      "source": [
        "n = int(input('digite um numero'))\n",
        "print(\"o dobro de {} vale {}\".format(n, (n*2)))\n",
        "print(\"o triplo de {} vale {}. \\nA raiz quadrada de {} é igual a {:.2f}\".format(n, (n*3), n, pow(n, (1/2))))"
      ],
      "execution_count": null,
      "outputs": [
        {
          "output_type": "stream",
          "name": "stdout",
          "text": [
            "digite um numero16\n",
            "o dobro de 16 vale 32\n",
            "o triplo de 16 vale 48. \n",
            "A raiz quadrada de 16 é igual a 4.00\n"
          ]
        }
      ]
    },
    {
      "cell_type": "markdown",
      "metadata": {
        "id": "98aSSy_M7Tl3"
      },
      "source": [
        "**Pow** e (1/2) entre parenteses serve para calcular **raiz** ***quadrada***"
      ]
    }
  ]
}